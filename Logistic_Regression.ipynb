{
  "nbformat": 4,
  "nbformat_minor": 0,
  "metadata": {
    "colab": {
      "name": "Logistic_Regression.ipynb",
      "provenance": [],
      "collapsed_sections": [],
      "include_colab_link": true
    },
    "kernelspec": {
      "name": "python3",
      "display_name": "Python 3"
    }
  },
  "cells": [
    {
      "cell_type": "markdown",
      "metadata": {
        "id": "view-in-github",
        "colab_type": "text"
      },
      "source": [
        "<a href=\"https://colab.research.google.com/github/ajastha993/Machine-Learning/blob/master/Logistic_Regression.ipynb\" target=\"_parent\"><img src=\"https://colab.research.google.com/assets/colab-badge.svg\" alt=\"Open In Colab\"/></a>"
      ]
    },
    {
      "cell_type": "markdown",
      "metadata": {
        "id": "RJ-hEeDXg-tL",
        "colab_type": "text"
      },
      "source": [
        "**Logistic regression**"
      ]
    },
    {
      "cell_type": "markdown",
      "metadata": {
        "id": "YbAmC1bmhEv9",
        "colab_type": "text"
      },
      "source": [
        "Importing the library pandas,numpy,matplotlib.\n",
        "Importing the dataset form the sklearn"
      ]
    },
    {
      "cell_type": "code",
      "metadata": {
        "id": "gqwbS6tGTOtQ",
        "colab_type": "code",
        "colab": {}
      },
      "source": [
        "import pandas as pd  \n",
        "import numpy as np  \n",
        "import matplotlib.pyplot as plt \n",
        "from sklearn import datasets\n",
        "from sklearn.model_selection import train_test_split \n",
        "from sklearn.linear_model import LogisticRegression\n",
        "from sklearn import metrics\n",
        "import seaborn as seabornInstance \n",
        "\n"
      ],
      "execution_count": 0,
      "outputs": []
    },
    {
      "cell_type": "markdown",
      "metadata": {
        "id": "Nd_OhBQqhUxk",
        "colab_type": "text"
      },
      "source": [
        "Load the dataset in db and then take the data in X and target in y"
      ]
    },
    {
      "cell_type": "code",
      "metadata": {
        "id": "3UxPxNogg2n6",
        "colab_type": "code",
        "colab": {}
      },
      "source": [
        "db=datasets.load_iris()\n",
        "X = db['data']\n",
        "y = db['target']\n",
        "\n",
        "\n"
      ],
      "execution_count": 0,
      "outputs": []
    },
    {
      "cell_type": "markdown",
      "metadata": {
        "id": "wUhXcaX7hgUN",
        "colab_type": "text"
      },
      "source": [
        "Spliting the dataset in train and test "
      ]
    },
    {
      "cell_type": "code",
      "metadata": {
        "id": "bAC9V_C0Tfvs",
        "colab_type": "code",
        "colab": {}
      },
      "source": [
        "X_train,X_test,y_train,y_test = train_test_split(X,y,test_size=0.2)"
      ],
      "execution_count": 0,
      "outputs": []
    },
    {
      "cell_type": "markdown",
      "metadata": {
        "id": "XHDrFydhhktS",
        "colab_type": "text"
      },
      "source": [
        "Apply the logistic model and fit the model for train data"
      ]
    },
    {
      "cell_type": "code",
      "metadata": {
        "id": "PWIUMahlTwnY",
        "colab_type": "code",
        "outputId": "892359f7-01ab-4832-e231-2c4a2c0bf895",
        "colab": {
          "base_uri": "https://localhost:8080/",
          "height": 104
        }
      },
      "source": [
        "reg=LogisticRegression(max_iter=1000)\n",
        "reg.fit(X_train,y_train)"
      ],
      "execution_count": 40,
      "outputs": [
        {
          "output_type": "execute_result",
          "data": {
            "text/plain": [
              "LogisticRegression(C=1.0, class_weight=None, dual=False, fit_intercept=True,\n",
              "                   intercept_scaling=1, l1_ratio=None, max_iter=1000,\n",
              "                   multi_class='auto', n_jobs=None, penalty='l2',\n",
              "                   random_state=None, solver='lbfgs', tol=0.0001, verbose=0,\n",
              "                   warm_start=False)"
            ]
          },
          "metadata": {
            "tags": []
          },
          "execution_count": 40
        }
      ]
    },
    {
      "cell_type": "markdown",
      "metadata": {
        "id": "mf2YvmUfhxgk",
        "colab_type": "text"
      },
      "source": [
        "Predicting the value for the x_test"
      ]
    },
    {
      "cell_type": "code",
      "metadata": {
        "id": "Q38zWtoGT5v2",
        "colab_type": "code",
        "colab": {}
      },
      "source": [
        "y_pred=reg.predict(X_test)"
      ],
      "execution_count": 0,
      "outputs": []
    },
    {
      "cell_type": "markdown",
      "metadata": {
        "id": "0AX5AhrOiKKW",
        "colab_type": "text"
      },
      "source": [
        "Accuracy of our model"
      ]
    },
    {
      "cell_type": "code",
      "metadata": {
        "id": "bEXlUM4LUEnO",
        "colab_type": "code",
        "outputId": "b251535f-852e-45cb-a8c6-2dc0adc15872",
        "colab": {
          "base_uri": "https://localhost:8080/",
          "height": 34
        }
      },
      "source": [
        "y_test\n",
        "reg.score(X_test,y_test)"
      ],
      "execution_count": 31,
      "outputs": [
        {
          "output_type": "execute_result",
          "data": {
            "text/plain": [
              "0.9666666666666667"
            ]
          },
          "metadata": {
            "tags": []
          },
          "execution_count": 31
        }
      ]
    },
    {
      "cell_type": "markdown",
      "metadata": {
        "id": "u6NkmkByiNAR",
        "colab_type": "text"
      },
      "source": [
        "New predicted value"
      ]
    },
    {
      "cell_type": "code",
      "metadata": {
        "id": "_ABz23Qih5F5",
        "colab_type": "code",
        "colab": {
          "base_uri": "https://localhost:8080/",
          "height": 990
        },
        "outputId": "91e9e6a4-8004-47f9-9342-aec727d53617"
      },
      "source": [
        "df = pd.DataFrame({'Actual': y_test.flatten(), 'Predicted': y_pred.flatten()})\n",
        "df"
      ],
      "execution_count": 32,
      "outputs": [
        {
          "output_type": "execute_result",
          "data": {
            "text/html": [
              "<div>\n",
              "<style scoped>\n",
              "    .dataframe tbody tr th:only-of-type {\n",
              "        vertical-align: middle;\n",
              "    }\n",
              "\n",
              "    .dataframe tbody tr th {\n",
              "        vertical-align: top;\n",
              "    }\n",
              "\n",
              "    .dataframe thead th {\n",
              "        text-align: right;\n",
              "    }\n",
              "</style>\n",
              "<table border=\"1\" class=\"dataframe\">\n",
              "  <thead>\n",
              "    <tr style=\"text-align: right;\">\n",
              "      <th></th>\n",
              "      <th>Actual</th>\n",
              "      <th>Predicted</th>\n",
              "    </tr>\n",
              "  </thead>\n",
              "  <tbody>\n",
              "    <tr>\n",
              "      <th>0</th>\n",
              "      <td>0</td>\n",
              "      <td>0</td>\n",
              "    </tr>\n",
              "    <tr>\n",
              "      <th>1</th>\n",
              "      <td>1</td>\n",
              "      <td>1</td>\n",
              "    </tr>\n",
              "    <tr>\n",
              "      <th>2</th>\n",
              "      <td>2</td>\n",
              "      <td>2</td>\n",
              "    </tr>\n",
              "    <tr>\n",
              "      <th>3</th>\n",
              "      <td>1</td>\n",
              "      <td>1</td>\n",
              "    </tr>\n",
              "    <tr>\n",
              "      <th>4</th>\n",
              "      <td>2</td>\n",
              "      <td>2</td>\n",
              "    </tr>\n",
              "    <tr>\n",
              "      <th>5</th>\n",
              "      <td>1</td>\n",
              "      <td>1</td>\n",
              "    </tr>\n",
              "    <tr>\n",
              "      <th>6</th>\n",
              "      <td>1</td>\n",
              "      <td>1</td>\n",
              "    </tr>\n",
              "    <tr>\n",
              "      <th>7</th>\n",
              "      <td>0</td>\n",
              "      <td>0</td>\n",
              "    </tr>\n",
              "    <tr>\n",
              "      <th>8</th>\n",
              "      <td>1</td>\n",
              "      <td>1</td>\n",
              "    </tr>\n",
              "    <tr>\n",
              "      <th>9</th>\n",
              "      <td>0</td>\n",
              "      <td>0</td>\n",
              "    </tr>\n",
              "    <tr>\n",
              "      <th>10</th>\n",
              "      <td>0</td>\n",
              "      <td>0</td>\n",
              "    </tr>\n",
              "    <tr>\n",
              "      <th>11</th>\n",
              "      <td>0</td>\n",
              "      <td>0</td>\n",
              "    </tr>\n",
              "    <tr>\n",
              "      <th>12</th>\n",
              "      <td>2</td>\n",
              "      <td>2</td>\n",
              "    </tr>\n",
              "    <tr>\n",
              "      <th>13</th>\n",
              "      <td>0</td>\n",
              "      <td>0</td>\n",
              "    </tr>\n",
              "    <tr>\n",
              "      <th>14</th>\n",
              "      <td>2</td>\n",
              "      <td>1</td>\n",
              "    </tr>\n",
              "    <tr>\n",
              "      <th>15</th>\n",
              "      <td>1</td>\n",
              "      <td>1</td>\n",
              "    </tr>\n",
              "    <tr>\n",
              "      <th>16</th>\n",
              "      <td>1</td>\n",
              "      <td>1</td>\n",
              "    </tr>\n",
              "    <tr>\n",
              "      <th>17</th>\n",
              "      <td>0</td>\n",
              "      <td>0</td>\n",
              "    </tr>\n",
              "    <tr>\n",
              "      <th>18</th>\n",
              "      <td>0</td>\n",
              "      <td>0</td>\n",
              "    </tr>\n",
              "    <tr>\n",
              "      <th>19</th>\n",
              "      <td>2</td>\n",
              "      <td>2</td>\n",
              "    </tr>\n",
              "    <tr>\n",
              "      <th>20</th>\n",
              "      <td>0</td>\n",
              "      <td>0</td>\n",
              "    </tr>\n",
              "    <tr>\n",
              "      <th>21</th>\n",
              "      <td>1</td>\n",
              "      <td>1</td>\n",
              "    </tr>\n",
              "    <tr>\n",
              "      <th>22</th>\n",
              "      <td>0</td>\n",
              "      <td>0</td>\n",
              "    </tr>\n",
              "    <tr>\n",
              "      <th>23</th>\n",
              "      <td>1</td>\n",
              "      <td>1</td>\n",
              "    </tr>\n",
              "    <tr>\n",
              "      <th>24</th>\n",
              "      <td>1</td>\n",
              "      <td>1</td>\n",
              "    </tr>\n",
              "    <tr>\n",
              "      <th>25</th>\n",
              "      <td>0</td>\n",
              "      <td>0</td>\n",
              "    </tr>\n",
              "    <tr>\n",
              "      <th>26</th>\n",
              "      <td>0</td>\n",
              "      <td>0</td>\n",
              "    </tr>\n",
              "    <tr>\n",
              "      <th>27</th>\n",
              "      <td>2</td>\n",
              "      <td>2</td>\n",
              "    </tr>\n",
              "    <tr>\n",
              "      <th>28</th>\n",
              "      <td>1</td>\n",
              "      <td>1</td>\n",
              "    </tr>\n",
              "    <tr>\n",
              "      <th>29</th>\n",
              "      <td>1</td>\n",
              "      <td>1</td>\n",
              "    </tr>\n",
              "  </tbody>\n",
              "</table>\n",
              "</div>"
            ],
            "text/plain": [
              "    Actual  Predicted\n",
              "0        0          0\n",
              "1        1          1\n",
              "2        2          2\n",
              "3        1          1\n",
              "4        2          2\n",
              "5        1          1\n",
              "6        1          1\n",
              "7        0          0\n",
              "8        1          1\n",
              "9        0          0\n",
              "10       0          0\n",
              "11       0          0\n",
              "12       2          2\n",
              "13       0          0\n",
              "14       2          1\n",
              "15       1          1\n",
              "16       1          1\n",
              "17       0          0\n",
              "18       0          0\n",
              "19       2          2\n",
              "20       0          0\n",
              "21       1          1\n",
              "22       0          0\n",
              "23       1          1\n",
              "24       1          1\n",
              "25       0          0\n",
              "26       0          0\n",
              "27       2          2\n",
              "28       1          1\n",
              "29       1          1"
            ]
          },
          "metadata": {
            "tags": []
          },
          "execution_count": 32
        }
      ]
    },
    {
      "cell_type": "markdown",
      "metadata": {
        "id": "eoMR7lGHiXRb",
        "colab_type": "text"
      },
      "source": [
        "Regression coef"
      ]
    },
    {
      "cell_type": "code",
      "metadata": {
        "id": "l0rmieAdUS0m",
        "colab_type": "code",
        "outputId": "9dee18b5-014d-4626-bc4a-5c21587be9ec",
        "colab": {
          "base_uri": "https://localhost:8080/",
          "height": 69
        }
      },
      "source": [
        "reg.coef_"
      ],
      "execution_count": 33,
      "outputs": [
        {
          "output_type": "execute_result",
          "data": {
            "text/plain": [
              "array([[-0.41598693,  0.87411531, -2.38710773, -1.0155744 ],\n",
              "       [ 0.29777194, -0.2729263 , -0.19056005, -0.82818907],\n",
              "       [ 0.11821499, -0.60118901,  2.57766778,  1.84376347]])"
            ]
          },
          "metadata": {
            "tags": []
          },
          "execution_count": 33
        }
      ]
    },
    {
      "cell_type": "code",
      "metadata": {
        "id": "U2SVrQaPVRzm",
        "colab_type": "code",
        "outputId": "37bb9ec7-d3df-43b0-f91b-60aa8c8da276",
        "colab": {
          "base_uri": "https://localhost:8080/",
          "height": 34
        }
      },
      "source": [
        "reg.intercept_"
      ],
      "execution_count": 34,
      "outputs": [
        {
          "output_type": "execute_result",
          "data": {
            "text/plain": [
              "array([  9.66238477,   3.13697269, -12.79935746])"
            ]
          },
          "metadata": {
            "tags": []
          },
          "execution_count": 34
        }
      ]
    },
    {
      "cell_type": "markdown",
      "metadata": {
        "id": "McKoa-NRiiup",
        "colab_type": "text"
      },
      "source": [
        "Plot the graph"
      ]
    },
    {
      "cell_type": "code",
      "metadata": {
        "id": "TvOQ0HMgVV7E",
        "colab_type": "code",
        "outputId": "b531560d-fd45-46ea-a112-5f012b3ec8a7",
        "colab": {
          "base_uri": "https://localhost:8080/",
          "height": 334
        }
      },
      "source": [
        "plt.plot(X_test,y_test)\n",
        "plt.plot(X_test,y_pred,'g')"
      ],
      "execution_count": 35,
      "outputs": [
        {
          "output_type": "execute_result",
          "data": {
            "text/plain": [
              "[<matplotlib.lines.Line2D at 0x7faeaf20bcf8>,\n",
              " <matplotlib.lines.Line2D at 0x7faeaf18a710>,\n",
              " <matplotlib.lines.Line2D at 0x7faeaf18a860>,\n",
              " <matplotlib.lines.Line2D at 0x7faeaf18a9b0>]"
            ]
          },
          "metadata": {
            "tags": []
          },
          "execution_count": 35
        },
        {
          "output_type": "display_data",
          "data": {
            "image/png": "[encoded data removed]",
            "text/plain": [
              "<Figure size 432x288 with 1 Axes>"
            ]
          },
          "metadata": {
            "tags": []
          }
        }
      ]
    },
    {
      "cell_type": "markdown",
      "metadata": {
        "id": "U6q20arNilYy",
        "colab_type": "text"
      },
      "source": [
        "Errors"
      ]
    },
    {
      "cell_type": "markdown",
      "metadata": {
        "id": "X6Ci2s9Li0XC",
        "colab_type": "text"
      },
      "source": [
        "Mean absolute error"
      ]
    },
    {
      "cell_type": "code",
      "metadata": {
        "id": "8alJCfGhVikk",
        "colab_type": "code",
        "colab": {
          "base_uri": "https://localhost:8080/",
          "height": 34
        },
        "outputId": "b08d5607-e195-46bb-fff3-69b6d05dd6c9"
      },
      "source": [
        "from sklearn.metrics import mean_absolute_error\n",
        "MAE=mean_absolute_error(y_test,y_pred)\n",
        "MAE\n"
      ],
      "execution_count": 36,
      "outputs": [
        {
          "output_type": "execute_result",
          "data": {
            "text/plain": [
              "0.03333333333333333"
            ]
          },
          "metadata": {
            "tags": []
          },
          "execution_count": 36
        }
      ]
    },
    {
      "cell_type": "markdown",
      "metadata": {
        "id": "zslmPd7Di3rG",
        "colab_type": "text"
      },
      "source": [
        "Mean square error"
      ]
    },
    {
      "cell_type": "code",
      "metadata": {
        "id": "6bwaRIB0irFL",
        "colab_type": "code",
        "colab": {
          "base_uri": "https://localhost:8080/",
          "height": 34
        },
        "outputId": "14947549-9f10-4f64-93ba-53683f00363c"
      },
      "source": [
        "from sklearn.metrics import mean_squared_error\n",
        "MSE=mean_squared_error(y_test,y_pred)\n",
        "MSE"
      ],
      "execution_count": 37,
      "outputs": [
        {
          "output_type": "execute_result",
          "data": {
            "text/plain": [
              "0.03333333333333333"
            ]
          },
          "metadata": {
            "tags": []
          },
          "execution_count": 37
        }
      ]
    },
    {
      "cell_type": "markdown",
      "metadata": {
        "id": "h82O-OwQi6nF",
        "colab_type": "text"
      },
      "source": [
        "Root mean square error"
      ]
    },
    {
      "cell_type": "code",
      "metadata": {
        "id": "pv1O6VW4iu8p",
        "colab_type": "code",
        "colab": {
          "base_uri": "https://localhost:8080/",
          "height": 34
        },
        "outputId": "40738e84-f313-423d-e236-e6f9db99e088"
      },
      "source": [
        "from math import sqrt\n",
        "RMSE=sqrt(MSE)\n",
        "RMSE"
      ],
      "execution_count": 38,
      "outputs": [
        {
          "output_type": "execute_result",
          "data": {
            "text/plain": [
              "0.18257418583505536"
            ]
          },
          "metadata": {
            "tags": []
          },
          "execution_count": 38
        }
      ]
    },
    {
      "cell_type": "code",
      "metadata": {
        "id": "SA6M-EiFiyXI",
        "colab_type": "code",
        "colab": {}
      },
      "source": [
        ""
      ],
      "execution_count": 0,
      "outputs": []
    }
  ]
}