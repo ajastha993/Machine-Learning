{
  "nbformat": 4,
  "nbformat_minor": 0,
  "metadata": {
    "colab": {
      "name": "Python basic_datatypes.ipynb",
      "provenance": [],
      "authorship_tag": "ABX9TyNUO6CwHOlcdG/ve/Juvx47",
      "include_colab_link": true
    },
    "kernelspec": {
      "name": "python3",
      "display_name": "Python 3"
    },
    "language_info": {
      "name": "python"
    }
  },
  "cells": [
    {
      "cell_type": "markdown",
      "metadata": {
        "id": "view-in-github",
        "colab_type": "text"
      },
      "source": [
        "<a href=\"https://colab.research.google.com/github/ajastha993/Machine-Learning/blob/master/Python_basic_datatypes.ipynb\" target=\"_parent\"><img src=\"https://colab.research.google.com/assets/colab-badge.svg\" alt=\"Open In Colab\"/></a>"
      ]
    },
    {
      "cell_type": "code",
      "execution_count": 3,
      "metadata": {
        "colab": {
          "base_uri": "https://localhost:8080/"
        },
        "id": "xqDoTRvasOYx",
        "outputId": "c3967cee-a152-4327-ed87-465799a865a7"
      },
      "outputs": [
        {
          "output_type": "stream",
          "name": "stdout",
          "text": [
            "<class 'int'>\n"
          ]
        }
      ],
      "source": [
        "a=60\n",
        "print(type(a))"
      ]
    },
    {
      "cell_type": "markdown",
      "source": [
        "***Python String***"
      ],
      "metadata": {
        "id": "yfD48T-gsfhG"
      }
    },
    {
      "cell_type": "code",
      "source": [
        "day=28\n",
        "month=\"jan\"\n",
        "year=2022\n",
        "\n",
        "print(f\"This is {day} of {month} of {year}\")"
      ],
      "metadata": {
        "colab": {
          "base_uri": "https://localhost:8080/"
        },
        "id": "HFujSOF8scIy",
        "outputId": "daa3d64f-1e56-4039-c171-467f4116352c"
      },
      "execution_count": 5,
      "outputs": [
        {
          "output_type": "stream",
          "name": "stdout",
          "text": [
            "This is 28 of jan of 2022\n"
          ]
        }
      ]
    },
    {
      "cell_type": "markdown",
      "source": [
        "**Boolen**"
      ],
      "metadata": {
        "id": "RVTO5o9a3Ml-"
      }
    },
    {
      "cell_type": "code",
      "source": [
        "age=0\n",
        "if age:\n",
        "  print(\"child\")\n",
        "else:\n",
        "  print(\"audlt\")"
      ],
      "metadata": {
        "colab": {
          "base_uri": "https://localhost:8080/"
        },
        "id": "JdGHuud_3O9w",
        "outputId": "f4e68f31-2efc-4921-a554-3f7138c5e4dd"
      },
      "execution_count": 9,
      "outputs": [
        {
          "output_type": "stream",
          "name": "stdout",
          "text": [
            "audlt\n"
          ]
        }
      ]
    },
    {
      "cell_type": "markdown",
      "source": [
        "**Random**"
      ],
      "metadata": {
        "id": "FI-dR8jT4Ot_"
      }
    },
    {
      "cell_type": "code",
      "source": [
        "import random\n",
        "print(random.randint(1,20))\n",
        "\n",
        "print(random.random())    #it will give float no between 0and 1\n",
        "\n",
        "ans=random.randint(1,3)\n",
        "if ans==1:\n",
        "  print(\"yes\")\n",
        "elif ans==2:\n",
        "  print(\"NO\")\n",
        "else:\n",
        "  print(\"May be\")\n",
        "\n",
        "lucky=random.randint(1,100)\n",
        "print(f\"you have a great day and luck no is:{lucky}\")"
      ],
      "metadata": {
        "colab": {
          "base_uri": "https://localhost:8080/"
        },
        "id": "M9b-bJyy4QxX",
        "outputId": "6c13e1b9-5b1c-4773-afc0-06b61a3f9646"
      },
      "execution_count": 27,
      "outputs": [
        {
          "output_type": "stream",
          "name": "stdout",
          "text": [
            "13\n",
            "0.9123563646737198\n",
            "NO\n",
            "you have a great day and luck no is:33\n"
          ]
        }
      ]
    },
    {
      "cell_type": "markdown",
      "source": [
        "**random no project**"
      ],
      "metadata": {
        "id": "pthNzx4b6won"
      }
    },
    {
      "cell_type": "code",
      "source": [
        "import random\n",
        "a=random.randint(1,3)\n",
        "text=''\n",
        "if a==1:\n",
        "  text=\"you are lucky!!\"\n",
        "  print(text)\n",
        "elif a==2:\n",
        "  text=\"you are supper lucky!!\"\n",
        "  print(text)\n",
        "\n",
        "else:\n",
        "  text=\"yehhh!!\"\n",
        "  print(text)\n",
        "\n",
        "ans=random.randint(1,100)\n",
        "print(f\"lucky no is:{ans}\")"
      ],
      "metadata": {
        "colab": {
          "base_uri": "https://localhost:8080/"
        },
        "id": "EFMzmNgX662R",
        "outputId": "a05fb9b0-5f63-4b1c-ddea-ada5dc4ef33b"
      },
      "execution_count": 36,
      "outputs": [
        {
          "output_type": "stream",
          "name": "stdout",
          "text": [
            "you are lucky!!\n",
            "lucky no is:74\n"
          ]
        }
      ]
    },
    {
      "cell_type": "markdown",
      "source": [
        "**List** "
      ],
      "metadata": {
        "id": "p4NkZxggnvtn"
      }
    },
    {
      "cell_type": "code",
      "source": [
        "ls=[\"astha\",\"salecha\",\"jain\"]\n",
        "ls.append(\"ashu\")\n",
        "print(ls)\n",
        "\n",
        "ls.insert(2,\"kiki\")\n",
        "print(ls)\n",
        "\n",
        "del(ls[0])\n",
        "print(ls)"
      ],
      "metadata": {
        "colab": {
          "base_uri": "https://localhost:8080/"
        },
        "id": "HR8DTPCCnxz8",
        "outputId": "271aaa0a-d547-45a5-81d5-73ce412b6e9c"
      },
      "execution_count": 8,
      "outputs": [
        {
          "output_type": "stream",
          "name": "stdout",
          "text": [
            "['astha', 'salecha', 'jain', 'ashu']\n",
            "['astha', 'salecha', 'kiki', 'jain', 'ashu']\n",
            "['salecha', 'kiki', 'jain', 'ashu']\n"
          ]
        }
      ]
    },
    {
      "cell_type": "markdown",
      "source": [
        "**LOOPS**"
      ],
      "metadata": {
        "id": "v73lCGLBqc31"
      }
    },
    {
      "cell_type": "code",
      "source": [
        "for x in range(10):\n",
        "  print(2*x)"
      ],
      "metadata": {
        "colab": {
          "base_uri": "https://localhost:8080/"
        },
        "id": "pM-L5HKyqfOS",
        "outputId": "f850859e-2fa3-46a1-f80b-0912847b0de5"
      },
      "execution_count": 10,
      "outputs": [
        {
          "output_type": "stream",
          "name": "stdout",
          "text": [
            "0\n",
            "2\n",
            "4\n",
            "6\n",
            "8\n",
            "10\n",
            "12\n",
            "14\n",
            "16\n",
            "18\n"
          ]
        }
      ]
    },
    {
      "cell_type": "markdown",
      "source": [
        "**dic**"
      ],
      "metadata": {
        "id": "k5DmVfymrhGG"
      }
    },
    {
      "cell_type": "code",
      "source": [
        "di={1:True,2:False, 3:True}\n",
        "print(di)\n",
        "\n",
        "di[4]=True\n",
        "print(di)\n",
        "print(di[3])\n",
        "\n",
        "del(di[2])\n",
        "print(di)\n"
      ],
      "metadata": {
        "colab": {
          "base_uri": "https://localhost:8080/"
        },
        "id": "Nejj5bCdrjAk",
        "outputId": "eaa7682f-abf2-416d-e53b-446c2142d764"
      },
      "execution_count": 16,
      "outputs": [
        {
          "output_type": "stream",
          "name": "stdout",
          "text": [
            "{1: True, 2: False, 3: True}\n",
            "{1: True, 2: False, 3: True, 4: True}\n",
            "True\n",
            "{1: True, 3: True, 4: True}\n"
          ]
        }
      ]
    },
    {
      "cell_type": "markdown",
      "source": [
        "**Big_Text**"
      ],
      "metadata": {
        "id": "9yrpuTv0tUZu"
      }
    },
    {
      "cell_type": "code",
      "source": [
        "text=\"\"\"Elon Musk on Friday said texts that show he turned down a philanthropic opportunity with Bill Gates over the latter's short position on Tesla are legitimate.\n",
        "\n",
        "Screenshots of the texts were shared on Twitter by an account called Whole Mars Catalog that tagged Musk and asked if they were real.\n",
        "\n",
        "The origin of the screenshots was not immediately clear, though the color of the text message boxes suggests they were taken on Musk's phone.\n",
        "\n",
        "The first screenshot appears to show a text from Gates confirming a day and time to meet, to which Musk responds \"Great.\" Another screenshot shows a text, supposedly from Gates, saying \"just landed\" and Musk responding \"cool.\"\n",
        "\n",
        "Musk then sent a follow up text, writing: \"Do you still have a half billion dollar short position against Tesla?\"\"\"\n",
        "\n",
        "print(len(text.split()))\n",
        "\n",
        "dic={}\n",
        "for x in text.split():\n",
        "  if x in dic:\n",
        "    dic[x] +=1\n",
        "  else:\n",
        "    dic[x]=1\n",
        "\n",
        "print(dic)\n"
      ],
      "metadata": {
        "colab": {
          "base_uri": "https://localhost:8080/"
        },
        "id": "haxRPGJnta8q",
        "outputId": "4b718bfb-ae22-4ebd-e7ef-3bf4dc8218c3"
      },
      "execution_count": 19,
      "outputs": [
        {
          "output_type": "stream",
          "name": "stdout",
          "text": [
            "131\n",
            "{'Elon': 1, 'Musk': 5, 'on': 4, 'Friday': 1, 'said': 1, 'texts': 2, 'that': 2, 'show': 2, 'he': 1, 'turned': 1, 'down': 1, 'a': 6, 'philanthropic': 1, 'opportunity': 1, 'with': 1, 'Bill': 1, 'Gates': 2, 'over': 1, 'the': 5, \"latter's\": 1, 'short': 2, 'position': 2, 'Tesla': 1, 'are': 1, 'legitimate.': 1, 'Screenshots': 1, 'of': 3, 'were': 3, 'shared': 1, 'Twitter': 1, 'by': 1, 'an': 1, 'account': 1, 'called': 1, 'Whole': 1, 'Mars': 1, 'Catalog': 1, 'tagged': 1, 'and': 3, 'asked': 1, 'if': 1, 'they': 2, 'real.': 1, 'The': 2, 'origin': 1, 'screenshots': 1, 'was': 1, 'not': 1, 'immediately': 1, 'clear,': 1, 'though': 1, 'color': 1, 'text': 2, 'message': 1, 'boxes': 1, 'suggests': 1, 'taken': 1, \"Musk's\": 1, 'phone.': 1, 'first': 1, 'screenshot': 2, 'appears': 1, 'to': 3, 'from': 2, 'confirming': 1, 'day': 1, 'time': 1, 'meet,': 1, 'which': 1, 'responds': 1, '\"Great.\"': 1, 'Another': 1, 'shows': 1, 'text,': 2, 'supposedly': 1, 'Gates,': 1, 'saying': 1, '\"just': 1, 'landed\"': 1, 'responding': 1, '\"cool.\"': 1, 'then': 1, 'sent': 1, 'follow': 1, 'up': 1, 'writing:': 1, '\"Do': 1, 'you': 1, 'still': 1, 'have': 1, 'half': 1, 'billion': 1, 'dollar': 1, 'against': 1, 'Tesla?': 1}\n"
          ]
        }
      ]
    },
    {
      "cell_type": "markdown",
      "source": [
        "**Function**"
      ],
      "metadata": {
        "id": "o3U3-bALwV4g"
      }
    },
    {
      "cell_type": "code",
      "source": [
        "def hello(name):\n",
        "  print(f\"hello :{name}\")\n",
        "\n",
        "ls=[\"astha\",\"kiki\"]\n",
        "for i in ls:\n",
        "  hello(i)"
      ],
      "metadata": {
        "colab": {
          "base_uri": "https://localhost:8080/"
        },
        "id": "nD24bQ_gwYNG",
        "outputId": "444a2ce4-c381-4738-fbfc-90351f2dee2e"
      },
      "execution_count": 24,
      "outputs": [
        {
          "output_type": "stream",
          "name": "stdout",
          "text": [
            "hello :astha\n",
            "hello :kiki\n"
          ]
        }
      ]
    },
    {
      "cell_type": "code",
      "source": [
        "def up(x):\n",
        "  return(x.upper())\n",
        "\n",
        "ls=[\"astha\",\"kiki\"]\n",
        "ls1=[]\n",
        "for i in ls:\n",
        "  ls1.append(up(i))\n",
        "\n",
        "print(ls1)"
      ],
      "metadata": {
        "colab": {
          "base_uri": "https://localhost:8080/"
        },
        "id": "sJ_AGPZJxgSE",
        "outputId": "13421192-db41-4920-da77-411911eb7f2a"
      },
      "execution_count": 28,
      "outputs": [
        {
          "output_type": "stream",
          "name": "stdout",
          "text": [
            "['ASTHA', 'KIKI']\n"
          ]
        }
      ]
    },
    {
      "cell_type": "markdown",
      "source": [
        "**INPUT**"
      ],
      "metadata": {
        "id": "w4pSsnCHzMkY"
      }
    },
    {
      "cell_type": "code",
      "source": [
        "text=input(\"Enter your text\")\n",
        "x=input(\"Do you want to do it upper or lower\")\n",
        "\n",
        "if x==\"upper\":\n",
        "  print(text.upper())\n",
        "else:\n",
        "  print(text.lower())"
      ],
      "metadata": {
        "colab": {
          "base_uri": "https://localhost:8080/"
        },
        "id": "HB5m8LO_zOxP",
        "outputId": "afce2bf3-b51f-4719-8d85-190aa1e61400"
      },
      "execution_count": 31,
      "outputs": [
        {
          "output_type": "stream",
          "name": "stdout",
          "text": [
            "Enter your text12345\n",
            "Do you want to do it upper or lowerupper\n",
            "12345\n"
          ]
        }
      ]
    },
    {
      "cell_type": "markdown",
      "source": [
        "**Guess game**"
      ],
      "metadata": {
        "id": "yPlCmc3y12Iq"
      }
    },
    {
      "cell_type": "code",
      "source": [
        "import random\n",
        "import time\n",
        "print(\"welcome to guess game\")\n",
        "time.sleep(2)\n",
        "no=int(input(\"enter a no\"))\n",
        "\n",
        "x=random.randint(1,10)\n",
        "c=1\n",
        "while no !=x:\n",
        "  c+=1\n",
        "\n",
        "  if no<x:\n",
        "    no=int(input(\"no is smaller choose another one:\"))\n",
        "  else:\n",
        "    no=int(input(\"no is big choose another one:\"))\n",
        "\n",
        "print(f\"congrates you are wringhtand choose the no in {c} guess\")\n",
        "\n",
        "\n",
        "    \n",
        "\n",
        "\n"
      ],
      "metadata": {
        "colab": {
          "base_uri": "https://localhost:8080/"
        },
        "id": "-WPADaD2153n",
        "outputId": "cd6a2ec6-3e8e-4da1-e2a4-530d2164db07"
      },
      "execution_count": 36,
      "outputs": [
        {
          "output_type": "stream",
          "name": "stdout",
          "text": [
            "welcome to guess game\n",
            "enter a no5\n",
            "no is smaller choose another one:10\n",
            "no is big choose another one:9\n",
            "no is big choose another one:8\n",
            "no is big choose another one:7\n",
            "congrates you are wringhtand choose the no in 5 guess\n"
          ]
        }
      ]
    }
  ]
}